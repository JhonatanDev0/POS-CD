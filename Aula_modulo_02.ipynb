{
 "cells": [
  {
   "cell_type": "code",
   "execution_count": 1,
   "id": "0e3824e5",
   "metadata": {},
   "outputs": [],
   "source": [
    "#Coleta de dados estruturados\n",
    "#importando as bibliotecas\n",
    "import pandas as pd\n",
    "import os"
   ]
  },
  {
   "cell_type": "code",
   "execution_count": null,
   "id": "20c82bda",
   "metadata": {},
   "outputs": [],
   "source": [
    "#Importando dados do arquivo\n",
    "DIRETORIO = 'D:\\\\Downloads\\\\Pós-Graduação\\\\Projetos\\\\env\\\\coleta_dados\\\\datasets\\\\'\n",
    "arquivo = 'country_vaccinations.csv'\n",
    "dados = os.path.join(DIRETORIO, arquivo)"
   ]
  },
  {
   "cell_type": "code",
   "execution_count": null,
   "id": "f5232bf1",
   "metadata": {},
   "outputs": [],
   "source": [
    "dados"
   ]
  },
  {
   "cell_type": "code",
   "execution_count": null,
   "id": "4ef2bfd7",
   "metadata": {},
   "outputs": [],
   "source": [
    "dataframe = pd.read.csv(dados, sep=',', encoding='latin-1')"
   ]
  },
  {
   "cell_type": "code",
   "execution_count": null,
   "id": "00c37888",
   "metadata": {},
   "outputs": [],
   "source": [
    "dataframe.head()"
   ]
  },
  {
   "cell_type": "code",
   "execution_count": null,
   "id": "c7b2d6ab",
   "metadata": {},
   "outputs": [],
   "source": [
    "#Analisando os dados\n",
    "#Verificando dados referente ao brasil por dia\n",
    "dataframe.query('country == \"Brazil\"').sort_values('date', ascending=False)[:2]"
   ]
  },
  {
   "cell_type": "code",
   "execution_count": null,
   "id": "4a3fe0d1",
   "metadata": {},
   "outputs": [],
   "source": [
    "#Verificando o número de países distindo na base\n",
    "dataframe['country'].nunique()"
   ]
  },
  {
   "cell_type": "code",
   "execution_count": null,
   "id": "2b1e2635",
   "metadata": {},
   "outputs": [],
   "source": [
    "#Qual o pais com maior número de pessoas imunizadas?\n",
    "#identificando a data mais recente da coleta\n",
    "ultima_data = dataframe['date'].max()\n",
    "ultima_data"
   ]
  },
  {
   "cell_type": "code",
   "execution_count": null,
   "id": "8d9cb17e",
   "metadata": {},
   "outputs": [],
   "source": [
    "#filtrando a ultima data\n",
    "ultima_data = dataframe[dataframe.date == ultima_data]"
   ]
  },
  {
   "cell_type": "code",
   "execution_count": null,
   "id": "36d15e47",
   "metadata": {},
   "outputs": [],
   "source": [
    "#O comando shape mostra a quantidade de linhas e colunas dentro de um dataset\n",
    "ultima_data.shape"
   ]
  },
  {
   "cell_type": "code",
   "execution_count": null,
   "id": "966514fe",
   "metadata": {},
   "outputs": [],
   "source": [
    "ultima_data.groupby('country')['date'].max().sort_values(ascending=False)"
   ]
  },
  {
   "cell_type": "code",
   "execution_count": null,
   "id": "85a5339f",
   "metadata": {},
   "outputs": [],
   "source": [
    "ultima_data.groupby('country')['total_vaccinations'].max().sort_values(ascending=False)"
   ]
  },
  {
   "cell_type": "code",
   "execution_count": null,
   "id": "4fd8c998",
   "metadata": {},
   "outputs": [],
   "source": [
    "imunizados_por_pais = dataframe.groupby('country')['total_vaccinations'].max().sort_values(ascending=False)"
   ]
  },
  {
   "cell_type": "code",
   "execution_count": null,
   "id": "ffde2352",
   "metadata": {},
   "outputs": [],
   "source": [
    "imunizados_por_pais"
   ]
  },
  {
   "cell_type": "code",
   "execution_count": null,
   "id": "d1f212bd",
   "metadata": {},
   "outputs": [],
   "source": [
    "type(imunizados_por_pais)"
   ]
  },
  {
   "cell_type": "code",
   "execution_count": null,
   "id": "3bc35a5c",
   "metadata": {},
   "outputs": [],
   "source": [
    "imunizados = imunizados_por_pais.to_frame().reset_index()\n",
    "imunizados"
   ]
  },
  {
   "cell_type": "code",
   "execution_count": null,
   "id": "78abc192",
   "metadata": {},
   "outputs": [],
   "source": [
    "imunizados.sort_values('total_vaccinations',ascending=False).head('10')"
   ]
  },
  {
   "cell_type": "code",
   "execution_count": null,
   "id": "29a9ea5d",
   "metadata": {},
   "outputs": [],
   "source": [
    "#Qual a vacina é a mais utilizada no mundo?\n",
    "vacinas_por_pais = dataframe[['country','date','vaccines']]\n",
    "vacinas_por_pais"
   ]
  },
  {
   "cell_type": "code",
   "execution_count": null,
   "id": "115d0342",
   "metadata": {},
   "outputs": [],
   "source": [
    "vacinas_por_pais.groupby('vaccines')['country'].nunique().sort_values(ascending=False)"
   ]
  },
  {
   "cell_type": "code",
   "execution_count": null,
   "id": "a7272acd",
   "metadata": {},
   "outputs": [],
   "source": [
    "vacinas_por_pais = dataframe.groupby('country')['vaccines'].unique()\n",
    "vacinas_pais = vacinas_por_pais.to_frame().reset_index()"
   ]
  },
  {
   "cell_type": "code",
   "execution_count": null,
   "id": "f757013e",
   "metadata": {},
   "outputs": [],
   "source": [
    "#Qual o país possui o maior número de vacinados por dia\n",
    "dataframe.groupby('country')['daily_vaccinations'].max().sort_values(ascending=False)"
   ]
  },
  {
   "cell_type": "code",
   "execution_count": null,
   "id": "07fe2ceb",
   "metadata": {},
   "outputs": [],
   "source": [
    "#Qual a média de vacinação de vacinação por país\n",
    "media_pais = dataframe.groupby('country')['daily_vaccations'].mean().sort_values(ascending=False)\n",
    "media_pais = media_pais.to_frame().reset_index()\n",
    "media_pais"
   ]
  },
  {
   "cell_type": "code",
   "execution_count": null,
   "id": "099fe0ce",
   "metadata": {},
   "outputs": [],
   "source": [
    "#Criando um novo dataset\n",
    "dados_tratados = pd.merge(imunizados, media_pais, how='inner')"
   ]
  },
  {
   "cell_type": "code",
   "execution_count": null,
   "id": "0363d196",
   "metadata": {},
   "outputs": [],
   "source": [
    "dados_tratados = pd.merge(dados_tratados, vacinas_pais)\n",
    "dados_tratados"
   ]
  },
  {
   "cell_type": "code",
   "execution_count": null,
   "id": "12927689",
   "metadata": {},
   "outputs": [],
   "source": [
    "pd.merge(pd.merge(imunizados, media_pais), vacinas_pais)"
   ]
  },
  {
   "cell_type": "code",
   "execution_count": null,
   "id": "6cade986",
   "metadata": {},
   "outputs": [],
   "source": [
    "#Exportando dados tratados\n",
    "dados_tratados.to_csv('estatistica_pais.csv', index= True, sep= ';')"
   ]
  },
  {
   "cell_type": "code",
   "execution_count": null,
   "id": "c3cce9f8",
   "metadata": {},
   "outputs": [],
   "source": [
    "dados_tratados.to_json('estatistica.json', orient = 'records')"
   ]
  }
 ],
 "metadata": {
  "kernelspec": {
   "display_name": "coleta_dados",
   "language": "python",
   "name": "coleta_dados"
  },
  "language_info": {
   "codemirror_mode": {
    "name": "ipython",
    "version": 3
   },
   "file_extension": ".py",
   "mimetype": "text/x-python",
   "name": "python",
   "nbconvert_exporter": "python",
   "pygments_lexer": "ipython3",
   "version": "3.9.7"
  }
 },
 "nbformat": 4,
 "nbformat_minor": 5
}
