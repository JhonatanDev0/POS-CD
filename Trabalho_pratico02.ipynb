{
 "cells": [
  {
   "cell_type": "code",
   "execution_count": 2,
   "id": "f060f5a2",
   "metadata": {},
   "outputs": [],
   "source": [
    "import pandas as pd\n",
    "import os"
   ]
  },
  {
   "cell_type": "code",
   "execution_count": 3,
   "id": "a63c01ff",
   "metadata": {},
   "outputs": [],
   "source": [
    "DIRETORIO = \"D:\\\\Downloads\\\\Pós-Graduação\\\\Projetos\\\\env\\\\coleta_dados\\\\datasets\\\\preferencia_pessoa\\\\\""
   ]
  },
  {
   "cell_type": "code",
   "execution_count": 4,
   "id": "40225af0",
   "metadata": {},
   "outputs": [],
   "source": [
    "lista_df = []\n",
    "lista_path = os.listdir(DIRETORIO)"
   ]
  },
  {
   "cell_type": "code",
   "execution_count": 5,
   "id": "2b06c54d",
   "metadata": {},
   "outputs": [
    {
     "data": {
      "text/plain": [
       "['2020-01-01.csv',\n",
       " '2020-01-02.csv',\n",
       " '2020-01-03.csv',\n",
       " '2020-01-04.csv',\n",
       " '2020-01-05.csv']"
      ]
     },
     "execution_count": 5,
     "metadata": {},
     "output_type": "execute_result"
    }
   ],
   "source": [
    "lista_path[:5]"
   ]
  },
  {
   "cell_type": "code",
   "execution_count": null,
   "id": "1baaa061",
   "metadata": {},
   "outputs": [],
   "source": [
    "lista_df = []\n",
    "for arquivo in lista_path:\n",
    "    local_arquivo = os.path.join(DIRETORIO, arquivo)\n",
    "    df = pd.read_csv(local_arquivo, sep = '|', encoding='latin-1')\n",
    "    lista_df.append(df)\n",
    "df_vendas = pd.concat(lista_df)"
   ]
  },
  {
   "cell_type": "code",
   "execution_count": 11,
   "id": "4202a450",
   "metadata": {},
   "outputs": [
    {
     "data": {
      "text/html": [
       "<div>\n",
       "<style scoped>\n",
       "    .dataframe tbody tr th:only-of-type {\n",
       "        vertical-align: middle;\n",
       "    }\n",
       "\n",
       "    .dataframe tbody tr th {\n",
       "        vertical-align: top;\n",
       "    }\n",
       "\n",
       "    .dataframe thead th {\n",
       "        text-align: right;\n",
       "    }\n",
       "</style>\n",
       "<table border=\"1\" class=\"dataframe\">\n",
       "  <thead>\n",
       "    <tr style=\"text-align: right;\">\n",
       "      <th></th>\n",
       "      <th>cod_pessoa</th>\n",
       "      <th>data_coleta</th>\n",
       "      <th>genero</th>\n",
       "      <th>data_nascimento</th>\n",
       "      <th>animal_estimacao</th>\n",
       "      <th>clima</th>\n",
       "      <th>bebida_favorita</th>\n",
       "      <th>hobbies</th>\n",
       "    </tr>\n",
       "  </thead>\n",
       "  <tbody>\n",
       "    <tr>\n",
       "      <th>0</th>\n",
       "      <td>10141743</td>\n",
       "      <td>2020-01-01</td>\n",
       "      <td>Masculino</td>\n",
       "      <td>1981-04-25</td>\n",
       "      <td>peixe</td>\n",
       "      <td>frio</td>\n",
       "      <td>Cerveja</td>\n",
       "      <td>Praticar esporte</td>\n",
       "    </tr>\n",
       "    <tr>\n",
       "      <th>1</th>\n",
       "      <td>10141860</td>\n",
       "      <td>2020-01-01</td>\n",
       "      <td>Feminino</td>\n",
       "      <td>1966-01-19</td>\n",
       "      <td>peixe</td>\n",
       "      <td>quente</td>\n",
       "      <td>Café</td>\n",
       "      <td>Assistir TV</td>\n",
       "    </tr>\n",
       "    <tr>\n",
       "      <th>2</th>\n",
       "      <td>10142548</td>\n",
       "      <td>2020-01-01</td>\n",
       "      <td>Masculino</td>\n",
       "      <td>1973-08-02</td>\n",
       "      <td>tartaruga</td>\n",
       "      <td>frio</td>\n",
       "      <td>Café</td>\n",
       "      <td>Ler livros</td>\n",
       "    </tr>\n",
       "    <tr>\n",
       "      <th>3</th>\n",
       "      <td>10142591</td>\n",
       "      <td>2020-01-01</td>\n",
       "      <td>Masculino</td>\n",
       "      <td>1997-03-05</td>\n",
       "      <td>gato</td>\n",
       "      <td>moderado</td>\n",
       "      <td>Cerveja</td>\n",
       "      <td>Aprender algo novo</td>\n",
       "    </tr>\n",
       "    <tr>\n",
       "      <th>4</th>\n",
       "      <td>10142654</td>\n",
       "      <td>2020-01-01</td>\n",
       "      <td>Feminino</td>\n",
       "      <td>1969-08-05</td>\n",
       "      <td>tartaruga</td>\n",
       "      <td>moderado</td>\n",
       "      <td>Café</td>\n",
       "      <td>Assistir TV</td>\n",
       "    </tr>\n",
       "    <tr>\n",
       "      <th>0</th>\n",
       "      <td>10141523</td>\n",
       "      <td>2020-01-02</td>\n",
       "      <td>Feminino</td>\n",
       "      <td>1998-09-24</td>\n",
       "      <td>gato</td>\n",
       "      <td>quente</td>\n",
       "      <td>Cerveja</td>\n",
       "      <td>Aprender algo novo</td>\n",
       "    </tr>\n",
       "    <tr>\n",
       "      <th>1</th>\n",
       "      <td>10141996</td>\n",
       "      <td>2020-01-02</td>\n",
       "      <td>Feminino</td>\n",
       "      <td>1973-03-13</td>\n",
       "      <td>tartaruga</td>\n",
       "      <td>quente</td>\n",
       "      <td>refrigerante</td>\n",
       "      <td>Escrever</td>\n",
       "    </tr>\n",
       "    <tr>\n",
       "      <th>2</th>\n",
       "      <td>10142089</td>\n",
       "      <td>2020-01-02</td>\n",
       "      <td>Feminino</td>\n",
       "      <td>1970-03-23</td>\n",
       "      <td>gato</td>\n",
       "      <td>moderado</td>\n",
       "      <td>Água</td>\n",
       "      <td>Pintar quadros</td>\n",
       "    </tr>\n",
       "    <tr>\n",
       "      <th>3</th>\n",
       "      <td>10142145</td>\n",
       "      <td>2020-01-02</td>\n",
       "      <td>Masculino</td>\n",
       "      <td>1998-08-01</td>\n",
       "      <td>peixe</td>\n",
       "      <td>frio</td>\n",
       "      <td>refrigerante</td>\n",
       "      <td>Escrever</td>\n",
       "    </tr>\n",
       "    <tr>\n",
       "      <th>4</th>\n",
       "      <td>10142520</td>\n",
       "      <td>2020-01-02</td>\n",
       "      <td>Masculino</td>\n",
       "      <td>1994-05-09</td>\n",
       "      <td>peixe</td>\n",
       "      <td>moderado</td>\n",
       "      <td>Café</td>\n",
       "      <td>Praticar esporte</td>\n",
       "    </tr>\n",
       "  </tbody>\n",
       "</table>\n",
       "</div>"
      ],
      "text/plain": [
       "   cod_pessoa data_coleta     genero data_nascimento animal_estimacao  \\\n",
       "0    10141743  2020-01-01  Masculino      1981-04-25            peixe   \n",
       "1    10141860  2020-01-01   Feminino      1966-01-19            peixe   \n",
       "2    10142548  2020-01-01  Masculino      1973-08-02        tartaruga   \n",
       "3    10142591  2020-01-01  Masculino      1997-03-05             gato   \n",
       "4    10142654  2020-01-01   Feminino      1969-08-05        tartaruga   \n",
       "0    10141523  2020-01-02   Feminino      1998-09-24             gato   \n",
       "1    10141996  2020-01-02   Feminino      1973-03-13        tartaruga   \n",
       "2    10142089  2020-01-02   Feminino      1970-03-23             gato   \n",
       "3    10142145  2020-01-02  Masculino      1998-08-01            peixe   \n",
       "4    10142520  2020-01-02  Masculino      1994-05-09            peixe   \n",
       "\n",
       "      clima bebida_favorita             hobbies  \n",
       "0      frio         Cerveja    Praticar esporte  \n",
       "1    quente            Café         Assistir TV  \n",
       "2      frio            Café          Ler livros  \n",
       "3  moderado         Cerveja  Aprender algo novo  \n",
       "4  moderado            Café         Assistir TV  \n",
       "0    quente         Cerveja  Aprender algo novo  \n",
       "1    quente    refrigerante            Escrever  \n",
       "2  moderado            Água      Pintar quadros  \n",
       "3      frio    refrigerante            Escrever  \n",
       "4  moderado            Café    Praticar esporte  "
      ]
     },
     "execution_count": 11,
     "metadata": {},
     "output_type": "execute_result"
    }
   ],
   "source": [
    "df_vendas[:10]"
   ]
  },
  {
   "cell_type": "code",
   "execution_count": 12,
   "id": "3a9b3f2d",
   "metadata": {},
   "outputs": [],
   "source": [
    "df_vendas.to_csv(DIRETORIO + 'preferencia_pessoa.csv', sep = ';', encoding='latin-1', index=False)"
   ]
  }
 ],
 "metadata": {
  "kernelspec": {
   "display_name": "coleta_dados",
   "language": "python",
   "name": "coleta_dados"
  },
  "language_info": {
   "codemirror_mode": {
    "name": "ipython",
    "version": 3
   },
   "file_extension": ".py",
   "mimetype": "text/x-python",
   "name": "python",
   "nbconvert_exporter": "python",
   "pygments_lexer": "ipython3",
   "version": "3.9.7"
  }
 },
 "nbformat": 4,
 "nbformat_minor": 5
}
